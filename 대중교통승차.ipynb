{
 "cells": [
  {
   "cell_type": "code",
   "execution_count": 57,
   "metadata": {},
   "outputs": [
    {
     "name": "stdout",
     "output_type": "stream",
     "text": [
      "강남에서가 가장 많은 3153418 수가 유임승차를 한다\n"
     ]
    }
   ],
   "source": [
    "import csv\n",
    "f=open('sub.csv')\n",
    "data=csv.reader(f)\n",
    "next(data)\n",
    "max=0\n",
    "rate=0\n",
    "place=''\n",
    "for row in data:\n",
    "    for i in range(4,8):\n",
    "        row[i]=int(row[i])\n",
    "    if max<row[4]:\n",
    "        max=row[4]\n",
    "        place=row[3]\n",
    "\n",
    "\n",
    "print(place+'에서가 가장 많은',max,'수가 유임승차를 한다')"
   ]
  },
  {
   "cell_type": "code",
   "execution_count": 61,
   "metadata": {},
   "outputs": [
    {
     "name": "stdout",
     "output_type": "stream",
     "text": [
      "유임승차비율이 가장 높은역은홍대입구 2호선 95.34483800050836 %\n"
     ]
    }
   ],
   "source": [
    "import csv\n",
    "f=open('sub.csv')\n",
    "data=csv.reader(f)\n",
    "next(data)\n",
    "max=0\n",
    "rate=0\n",
    "mx_station=''\n",
    "for row in data:\n",
    "    for i in range(4,8):\n",
    "        row[i]=int(row[i])\n",
    "    if row[6]!=0 and (row[4]+row[6])>100000:\n",
    "        rate = row[4]/(row[6]+row[4])\n",
    "        if rate > max:\n",
    "            max =rate\n",
    "            mx_station=row[3]+' '+row[1]\n",
    "\n",
    "\n",
    "print('유임승차비율이 가장 높은역은'+mx_station,max*100,'%')"
   ]
  },
  {
   "cell_type": "code",
   "execution_count": null,
   "metadata": {},
   "outputs": [],
   "source": []
  }
 ],
 "metadata": {
  "kernelspec": {
   "display_name": "Python 3",
   "language": "python",
   "name": "python3"
  },
  "language_info": {
   "codemirror_mode": {
    "name": "ipython",
    "version": 3
   },
   "file_extension": ".py",
   "mimetype": "text/x-python",
   "name": "python",
   "nbconvert_exporter": "python",
   "pygments_lexer": "ipython3",
   "version": "3.7.4"
  }
 },
 "nbformat": 4,
 "nbformat_minor": 2
}
